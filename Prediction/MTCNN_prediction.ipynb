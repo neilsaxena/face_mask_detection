{
 "cells": [
  {
   "cell_type": "code",
   "execution_count": 1,
   "metadata": {},
   "outputs": [],
   "source": [
    "# Importing Libraries\n",
    "import cv2\n",
    "from tensorflow.keras.models import load_model\n",
    "from tensorflow.keras.preprocessing.image import load_img, img_to_array\n",
    "import numpy as np\n",
    "%matplotlib inline\n",
    "from matplotlib import pyplot as plt\n",
    "from mtcnn.mtcnn import MTCNN"
   ]
  },
  {
   "cell_type": "code",
   "execution_count": 2,
   "metadata": {},
   "outputs": [],
   "source": [
    "# Loading model\n",
    "model_res = load_model('face_mask_model.h5')\n",
    "\n",
    "# Defining image height and width accepted by our model\n",
    "img_width, img_hight = 224, 224"
   ]
  },
  {
   "cell_type": "code",
   "execution_count": 3,
   "metadata": {},
   "outputs": [
    {
     "name": "stdout",
     "output_type": "stream",
     "text": [
      "user not wearing mask - prob =  0.9974388\n",
      "user not wearing mask - prob =  0.9981109\n",
      "user not wearing mask - prob =  0.9966736\n",
      "user not wearing mask - prob =  0.9983582\n"
     ]
    }
   ],
   "source": [
    "# Loading MTCNN\n",
    "detector = MTCNN()\n",
    "\n",
    "#startt  web cam\n",
    "cap = cv2.VideoCapture(0) \n",
    "\n",
    "img_count_full = 0\n",
    "\n",
    "#parameters for text\n",
    "# font \n",
    "font = cv2.FONT_HERSHEY_SIMPLEX \n",
    "# org \n",
    "org = (1, 1)\n",
    "class_lable=' '      \n",
    "# fontScale \n",
    "fontScale = 1 \n",
    "# Line thickness of 2 px \n",
    "thickness = 2 \n",
    "\n",
    "#sart reading images and prediction\n",
    "while True:\n",
    "    img_count_full += 1\n",
    "    \n",
    "    #read image from webcam\n",
    "    response, color_img = cap.read()\n",
    "    \n",
    "    #if respose is False then break the loop\n",
    "    if response == False:\n",
    "        break    \n",
    "\n",
    "    # Detect the faces\n",
    "    faces = detector.detect_faces(color_img)\n",
    "    \n",
    "    #take face then predict class mask or not mask then draw rectangle and text then display image\n",
    "    img_count = 0\n",
    "    for i in range(0,len(faces)):\n",
    "        bounding_box = faces[i]['box']\n",
    "        x = bounding_box[0]\n",
    "        y = bounding_box[1]\n",
    "        w = bounding_box[2]\n",
    "        h = bounding_box[3]\n",
    "        org = (x-10,y-10)\n",
    "        img_count +=1 \n",
    "        color_face = color_img[y:y+h,x:x+w] # color face\n",
    "        cv2.imwrite('MTCNN_detected_faces/%d%dface.jpg'%(img_count_full,img_count),color_face)\n",
    "        img = load_img('MTCNN_detected_faces/%d%dface.jpg'%(img_count_full,img_count), target_size=(img_width,img_hight))\n",
    "        \n",
    "        img = img_to_array(img)/255\n",
    "        img = np.expand_dims(img,axis=0)\n",
    "        pred_prob = model_res.predict(img)\n",
    "        pred=np.argmax(pred_prob)\n",
    "            \n",
    "        if pred==0:\n",
    "            print(\"User with mask - predic = \",pred_prob[0][0])\n",
    "            class_lable = \"Mask\"\n",
    "            color = (0, 255, 0)\n",
    "            cv2.rectangle(color_img, (x, y), (x+w, y+h), (0, 255, 0), 3)\n",
    "            cv2.putText(color_img, class_lable, org, font,fontScale, color, thickness, cv2.LINE_AA)             \n",
    "        else:\n",
    "            print('user not wearing mask - prob = ',pred_prob[0][1])\n",
    "            class_lable = \"No Mask\"\n",
    "            color = (0, 0, 255)\n",
    "            cv2.rectangle(color_img, (x, y), (x+w, y+h), (0, 0, 255), 3)\n",
    "            cv2.putText(color_img, class_lable, org, font,fontScale, color, thickness, cv2.LINE_AA)          \n",
    "\n",
    "    # display image\n",
    "    cv2.imshow('LIVE face mask detection', color_img)\n",
    "    \n",
    "    if cv2.waitKey(1) & 0xFF == ord('q'):\n",
    "        break\n",
    "\n",
    "# Release the VideoCapture object\n",
    "cap.release()\n",
    "cv2.destroyAllWindows()"
   ]
  }
 ],
 "metadata": {
  "kernelspec": {
   "display_name": "Python 3",
   "language": "python",
   "name": "python3"
  },
  "language_info": {
   "codemirror_mode": {
    "name": "ipython",
    "version": 3
   },
   "file_extension": ".py",
   "mimetype": "text/x-python",
   "name": "python",
   "nbconvert_exporter": "python",
   "pygments_lexer": "ipython3",
   "version": "3.8.5"
  }
 },
 "nbformat": 4,
 "nbformat_minor": 2
}
